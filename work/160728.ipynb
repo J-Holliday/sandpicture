{
 "cells": [
  {
   "cell_type": "code",
   "execution_count": 2,
   "metadata": {
    "collapsed": false
   },
   "outputs": [
    {
     "name": "stdout",
     "output_type": "stream",
     "text": [
      "/home/pi/AsceticPi/sandpicture\r\n"
     ]
    }
   ],
   "source": [
    "!pwd"
   ]
  },
  {
   "cell_type": "code",
   "execution_count": 3,
   "metadata": {
    "collapsed": true
   },
   "outputs": [],
   "source": [
    "!cp ../sensor/monitorGPIO.py ."
   ]
  },
  {
   "cell_type": "code",
   "execution_count": 4,
   "metadata": {
    "collapsed": false
   },
   "outputs": [
    {
     "name": "stdout",
     "output_type": "stream",
     "text": [
      "ImageRecognizer.py  monitorGPIO.py  Untitled.ipynb  WAVE.py\n"
     ]
    }
   ],
   "source": [
    "!ls"
   ]
  },
  {
   "cell_type": "code",
   "execution_count": 5,
   "metadata": {
    "collapsed": true
   },
   "outputs": [],
   "source": [
    "import monitorGPIO"
   ]
  },
  {
   "cell_type": "code",
   "execution_count": 6,
   "metadata": {
    "collapsed": false
   },
   "outputs": [
    {
     "name": "stdout",
     "output_type": "stream",
     "text": [
      "import RPi.GPIO as GPIO\r\n",
      "\r\n",
      "class monitorGPIO(object):\r\n",
      "    \r\n",
      "    def __init__(self):\r\n",
      "        GPIO.cleanup()\r\n",
      "\r\n",
      "    def setup_simplemonitor(self, gpio_in, gpio_out):\r\n",
      "        \"\"\"\r\n",
      "        Summary:\r\n",
      "            Set up for monitoring single gpio.\r\n",
      "            If it is called, next you should call simplemonitor().\r\n",
      "        Arguments:\r\n",
      "            gpio_in: (int) monitored gpio pin number.\r\n",
      "            gpio_out: (int) gpio pin number outputting voltage.\r\n",
      "        \"\"\"\r\n",
      "\r\n",
      "        GPIO.setmode(GPIO.BOARD)\r\n",
      "        GPIO.setup(gpio_out, GPIO.OUT)\r\n",
      "        GPIO.setup(gpio_in, GPIO.IN)\r\n",
      "        GPIO.output(gpio_out, True)\r\n",
      "        self.gpio_in = gpio_in\r\n",
      "        self.gpio_out = gpio_out\r\n",
      "\r\n",
      "    def simplemonitor(self):\r\n",
      "        return GPIO.input(self.gpio_in)\r\n"
     ]
    }
   ],
   "source": [
    "!cat monitorGPIO.py"
   ]
  },
  {
   "cell_type": "code",
   "execution_count": 8,
   "metadata": {
    "collapsed": false
   },
   "outputs": [
    {
     "name": "stderr",
     "output_type": "stream",
     "text": [
      "monitorGPIO.py:6: RuntimeWarning: No channels have been set up yet - nothing to clean up!  Try cleaning up at the end of your program instead!\n",
      "  GPIO.cleanup()\n"
     ]
    }
   ],
   "source": [
    "m = monitorGPIO.monitorGPIO()"
   ]
  },
  {
   "cell_type": "code",
   "execution_count": 9,
   "metadata": {
    "collapsed": true
   },
   "outputs": [],
   "source": [
    "m.setup_simplemonitor(38, 36)"
   ]
  },
  {
   "cell_type": "code",
   "execution_count": 16,
   "metadata": {
    "collapsed": false
   },
   "outputs": [
    {
     "data": {
      "text/plain": [
       "1"
      ]
     },
     "execution_count": 16,
     "metadata": {},
     "output_type": "execute_result"
    }
   ],
   "source": [
    "m.simplemonitor()"
   ]
  },
  {
   "cell_type": "code",
   "execution_count": null,
   "metadata": {
    "collapsed": true
   },
   "outputs": [],
   "source": []
  }
 ],
 "metadata": {
  "kernelspec": {
   "display_name": "Python 2",
   "language": "python",
   "name": "python2"
  },
  "language_info": {
   "codemirror_mode": {
    "name": "ipython",
    "version": 2
   },
   "file_extension": ".py",
   "mimetype": "text/x-python",
   "name": "python",
   "nbconvert_exporter": "python",
   "pygments_lexer": "ipython2",
   "version": "2.7.9"
  }
 },
 "nbformat": 4,
 "nbformat_minor": 0
}
